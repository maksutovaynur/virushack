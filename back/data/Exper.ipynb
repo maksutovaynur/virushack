{
 "cells": [
  {
   "cell_type": "code",
   "execution_count": 1,
   "metadata": {},
   "outputs": [],
   "source": [
    "import sys\n",
    "sys.path.append('../lib')\n",
    "import stats as S\n",
    "from importlib import reload\n",
    "import pandas as pd\n",
    "S = reload(S)"
   ]
  },
  {
   "cell_type": "code",
   "execution_count": 18,
   "metadata": {},
   "outputs": [
    {
     "name": "stdout",
     "output_type": "stream",
     "text": [
      "lemm ['я', 'уходить', 'от', 'дядя', 'теперь', 'работать', 'на', 'себя', 'и', 'головной', 'боль', 'нет']\n",
      "lemm_m ['я', 'ушел', 'от', 'дяд', 'тепер', 'работа', 'на', 'себ', 'и', 'головн', 'бол', 'нет']\n",
      "lemm_h ['я', 'уход', 'от', 'дяд', 'тепер', 'работа', 'на', 'себ', 'и', 'головн', 'бол', 'нет']\n"
     ]
    }
   ],
   "source": [
    "TEXT = 'Я ушёл от дяди, теперь работаю на себя и головных болей нет'\n",
    "\n",
    "for lemm in (S.lemm, S.lemm_m, S.lemm_h):\n",
    "    print(lemm.__name__, lemm(TEXT))"
   ]
  },
  {
   "cell_type": "code",
   "execution_count": 11,
   "metadata": {},
   "outputs": [
    {
     "data": {
      "text/plain": [
       "['я', 'уход', 'от', 'дяд', 'тепер', 'работа', 'на', 'себ']"
      ]
     },
     "execution_count": 11,
     "metadata": {},
     "output_type": "execute_result"
    }
   ],
   "source": [
    "S.lemm_m('\\n'.join(S.lemm('Я ушёл от дяди, теперь работаю на себя')))"
   ]
  },
  {
   "cell_type": "code",
   "execution_count": 3,
   "metadata": {},
   "outputs": [
    {
     "data": {
      "text/html": [
       "<div>\n",
       "<style scoped>\n",
       "    .dataframe tbody tr th:only-of-type {\n",
       "        vertical-align: middle;\n",
       "    }\n",
       "\n",
       "    .dataframe tbody tr th {\n",
       "        vertical-align: top;\n",
       "    }\n",
       "\n",
       "    .dataframe thead th {\n",
       "        text-align: right;\n",
       "    }\n",
       "</style>\n",
       "<table border=\"1\" class=\"dataframe\">\n",
       "  <thead>\n",
       "    <tr style=\"text-align: right;\">\n",
       "      <th></th>\n",
       "      <th>грибковая инфекция</th>\n",
       "      <th>дерматолог</th>\n",
       "    </tr>\n",
       "  </thead>\n",
       "  <tbody>\n",
       "    <tr>\n",
       "      <th>0</th>\n",
       "      <td>аллергия</td>\n",
       "      <td>аллерголог</td>\n",
       "    </tr>\n",
       "    <tr>\n",
       "      <th>1</th>\n",
       "      <td>Герд</td>\n",
       "      <td>терапевт</td>\n",
       "    </tr>\n",
       "    <tr>\n",
       "      <th>2</th>\n",
       "      <td>хронический холестаз</td>\n",
       "      <td>гастроэнтеролог</td>\n",
       "    </tr>\n",
       "    <tr>\n",
       "      <th>3</th>\n",
       "      <td>лекарственная реакция</td>\n",
       "      <td>терапевт</td>\n",
       "    </tr>\n",
       "    <tr>\n",
       "      <th>4</th>\n",
       "      <td>язвенная болезнь</td>\n",
       "      <td>гастроэнтеролог</td>\n",
       "    </tr>\n",
       "  </tbody>\n",
       "</table>\n",
       "</div>"
      ],
      "text/plain": [
       "      грибковая инфекция       дерматолог\n",
       "0               аллергия       аллерголог\n",
       "1                   Герд         терапевт\n",
       "2   хронический холестаз  гастроэнтеролог\n",
       "3  лекарственная реакция         терапевт\n",
       "4       язвенная болезнь  гастроэнтеролог"
      ]
     },
     "execution_count": 3,
     "metadata": {},
     "output_type": "execute_result"
    }
   ],
   "source": [
    "df = pd.read_csv('initial/simple.csv', sep='\\t')\n",
    "df.head()"
   ]
  },
  {
   "cell_type": "code",
   "execution_count": null,
   "metadata": {},
   "outputs": [],
   "source": []
  }
 ],
 "metadata": {
  "kernelspec": {
   "display_name": "Python 3",
   "language": "python",
   "name": "python3"
  },
  "language_info": {
   "codemirror_mode": {
    "name": "ipython",
    "version": 3
   },
   "file_extension": ".py",
   "mimetype": "text/x-python",
   "name": "python",
   "nbconvert_exporter": "python",
   "pygments_lexer": "ipython3",
   "version": "3.7.5"
  }
 },
 "nbformat": 4,
 "nbformat_minor": 2
}
