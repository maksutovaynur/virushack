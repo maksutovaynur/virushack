{
 "cells": [
  {
   "cell_type": "code",
   "execution_count": 1,
   "metadata": {},
   "outputs": [
    {
     "data": {
      "text/html": [
       "<style>.container{width: 100%}</style>"
      ],
      "text/plain": [
       "<IPython.core.display.HTML object>"
      ]
     },
     "metadata": {},
     "output_type": "display_data"
    }
   ],
   "source": [
    "import sys\n",
    "import gc\n",
    "import re\n",
    "import json\n",
    "import _pickle as p\n",
    "import pandas as pd\n",
    "import numpy as np\n",
    "from importlib import reload\n",
    "from IPython.display import display, HTML\n",
    "\n",
    "sys.path.append('..')\n",
    "sys.path.append('../lib')\n",
    "import stats as S\n",
    "S = reload(S)\n",
    "\n",
    "pd.set_option('display.width', None)\n",
    "pd.set_option('display.max_colwidth', None)\n",
    "display(HTML(\"<style>.container{width: 100%}</style>\"))"
   ]
  },
  {
   "cell_type": "code",
   "execution_count": 14,
   "metadata": {},
   "outputs": [],
   "source": [
    "lemm = S.lemm_h\n",
    "def freq_dict(text, suff='ph'):\n",
    "    txt_lemm = lemm(text)\n",
    "    kwds = S.keywords(txt_lemm)\n",
    "    word_cnt = len(kwds)\n",
    "    word_cnt_log_inv = 1 / np.log2(word_cnt)\n",
    "    kwds_sorted = sorted(kwds.items(), key=lambda x: -x[1])\n",
    "    kwds_inverted = {i: word_cnt_log_inv/v for i, v in kwds.items()}\n",
    "    v = kwds_inverted.values()\n",
    "    with open(f'{suff}-wordimp.json', 'w') as f:\n",
    "        f.write(json.dumps(kwds_inverted))\n",
    "    print(f\"Stats: words count: {word_cnt}, log_inv = {word_cnt_log_inv}; min = {min(v)}, max = {max(v)}\")\n",
    "    return kwds_inverted\n",
    "\n",
    "def prepare_dataset(df, ds_basename, threshold=1e-2, max_len=None):\n",
    "    Targ = 'Targ'\n",
    "    Lemm = 'Lemm'\n",
    "    Kw = 'Kw'\n",
    "    KwMult = 'KwMult'\n",
    "    KwFilt = 'KwFilt'\n",
    "    FSum = 'Fsum'\n",
    "    KwNorm = 'KwNorm'\n",
    "    txt = \"\\n\".join(df.loc[:, Targ].apply(str))\n",
    "    kwds_inverted = freq_dict(txt, suff=ds_basename)\n",
    "    df = df.loc[df.loc[:, Targ].notnull()]\n",
    "    if max_len is not None:\n",
    "        df = df.head(max_len)\n",
    "    df.loc[:, Lemm] = df.loc[:, Targ].apply(lemm)\n",
    "    df.loc[:, Kw] = df.loc[:, Lemm].apply(lambda x: {i: 1 for i, v in S.keywords(x).items()})\n",
    "    df.loc[:, KwMult] = df.loc[:, Kw].apply(lambda x: S.multiply2stats(kwds_inverted, x, max_dist=0))\n",
    "    df.loc[:, KwFilt] = df.loc[:, KwMult].apply(lambda x: {i: v for i, v in x.items() if v > max(x.values())*threshold})\n",
    "    df.loc[:, FSum] = df.loc[:, KwFilt].apply(lambda x: sum(x.values()))\n",
    "    df.loc[:, KwNorm] = df.apply(lambda x: {i: v/x[FSum] for i, v in x[KwFilt].items()}, axis=1)\n",
    "    \n",
    "    df.drop([Lemm, Kw, KwFilt, FSum], axis=1, inplace=True)\n",
    "    \n",
    "    df.to_csv(f'{ds_basename}-kw-thr{threshold:.6f}.csv')\n",
    "    gc.collect()\n",
    "    return df"
   ]
  },
  {
   "cell_type": "code",
   "execution_count": 15,
   "metadata": {
    "scrolled": true
   },
   "outputs": [],
   "source": [
    "# articles = pd.read_csv('medical_site.csv')\n",
    "pharma = pd.read_csv('pharma.csv')\n",
    "pharma.drop(['web-scraper-order', 'web-scraper-start-url', 'Page', 'Page-href', 'PharmaLink', 'AnalogsLinks-href', 'Lots', 'Instruction'], axis=1, inplace=True)\n",
    "pharma.rename(columns={\"PharmacologicAction\": \"Targ\"}, inplace=True)"
   ]
  },
  {
   "cell_type": "code",
   "execution_count": 16,
   "metadata": {},
   "outputs": [],
   "source": [
    "pattern = re.compile('[^\\w\\d\\s]+') \n",
    "Sdict = pd.read_csv('med_terms.csv')\n",
    "Sdict.drop(['web-scraper-order', 'web-scraper-start-url', 'Pages', 'Pages-href'], axis=1, inplace=True)\n",
    "Sdict.rename(columns={\"Definitions\": \"Targ\"}, inplace=True)"
   ]
  },
  {
   "cell_type": "code",
   "execution_count": 17,
   "metadata": {},
   "outputs": [],
   "source": [
    "Pdict = pd.read_csv('medical_profs.csv')\n",
    "Pdict.drop(['web-scraper-order', 'web-scraper-start-url', 'ProfLinks-href'], axis=1, inplace=True)\n",
    "Pdict.drop([1, 3, 4, 5, 11, 16, 26, 27, 33], axis=0, inplace=True)\n",
    "Pdict.rename(columns={\"DescriptionText\": \"Targ\"}, inplace=True)"
   ]
  },
  {
   "cell_type": "code",
   "execution_count": 18,
   "metadata": {},
   "outputs": [],
   "source": [
    "pattern = re.compile('[^\\w\\d\\s]+') \n",
    "S2dict = pd.read_csv('medical_term2.csv')\n",
    "S2dict.drop(['web-scraper-order', 'web-scraper-start-url', 'Disease-href'], axis=1, inplace=True)\n",
    "S2dict.rename(columns={\"Description\": \"Targ\"}, inplace=True)"
   ]
  },
  {
   "cell_type": "code",
   "execution_count": null,
   "metadata": {},
   "outputs": [
    {
     "name": "stdout",
     "output_type": "stream",
     "text": [
      "Stats: words count: 222, log_inv = 0.12829697788094419; min = 6.792152992797087e-06, max = 0.12829697788094419\n"
     ]
    },
    {
     "name": "stderr",
     "output_type": "stream",
     "text": [
      "/home/aynur/Installed/miniconda3/lib/python3.7/site-packages/pandas/core/indexing.py:845: SettingWithCopyWarning: \n",
      "A value is trying to be set on a copy of a slice from a DataFrame.\n",
      "Try using .loc[row_indexer,col_indexer] = value instead\n",
      "\n",
      "See the caveats in the documentation: https://pandas.pydata.org/pandas-docs/stable/user_guide/indexing.html#returning-a-view-versus-a-copy\n",
      "  self.obj[key] = _infer_fill_value(value)\n",
      "/home/aynur/Installed/miniconda3/lib/python3.7/site-packages/pandas/core/indexing.py:966: SettingWithCopyWarning: \n",
      "A value is trying to be set on a copy of a slice from a DataFrame.\n",
      "Try using .loc[row_indexer,col_indexer] = value instead\n",
      "\n",
      "See the caveats in the documentation: https://pandas.pydata.org/pandas-docs/stable/user_guide/indexing.html#returning-a-view-versus-a-copy\n",
      "  self.obj[item] = s\n",
      "/home/aynur/Installed/miniconda3/lib/python3.7/site-packages/pandas/core/frame.py:3997: SettingWithCopyWarning: \n",
      "A value is trying to be set on a copy of a slice from a DataFrame\n",
      "\n",
      "See the caveats in the documentation: https://pandas.pydata.org/pandas-docs/stable/user_guide/indexing.html#returning-a-view-versus-a-copy\n",
      "  errors=errors,\n"
     ]
    },
    {
     "name": "stdout",
     "output_type": "stream",
     "text": [
      "Stats: words count: 3733, log_inv = 0.08427354665375736; min = 0.0003956504537735087, max = 0.08427354665375736\n"
     ]
    }
   ],
   "source": [
    "pharma = prepare_dataset(pharma, 'pharma', max_len=None)\n",
    "Sdict = prepare_dataset(Sdict, 'def', max_len=None)\n",
    "S2dict = prepare_dataset(S2dict, 'def2', max_len=None)\n",
    "Pdict = prepare_dataset(Pdict, 'prof', max_len=None)"
   ]
  },
  {
   "cell_type": "code",
   "execution_count": null,
   "metadata": {},
   "outputs": [],
   "source": [
    "display(Ph.head())\n",
    "display(Sdict.head())\n",
    "display(Pdict.head())"
   ]
  },
  {
   "cell_type": "code",
   "execution_count": null,
   "metadata": {},
   "outputs": [],
   "source": [
    "gc.collect()"
   ]
  },
  {
   "cell_type": "code",
   "execution_count": null,
   "metadata": {},
   "outputs": [],
   "source": []
  }
 ],
 "metadata": {
  "kernelspec": {
   "display_name": "Python 3",
   "language": "python",
   "name": "python3"
  },
  "language_info": {
   "codemirror_mode": {
    "name": "ipython",
    "version": 3
   },
   "file_extension": ".py",
   "mimetype": "text/x-python",
   "name": "python",
   "nbconvert_exporter": "python",
   "pygments_lexer": "ipython3",
   "version": "3.7.5"
  }
 },
 "nbformat": 4,
 "nbformat_minor": 4
}
