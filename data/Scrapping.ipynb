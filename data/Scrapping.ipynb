{
 "cells": [
  {
   "cell_type": "code",
   "execution_count": 3,
   "metadata": {},
   "outputs": [
    {
     "name": "stderr",
     "output_type": "stream",
     "text": [
      "/home/aynur/Installed/miniconda3/lib/python3.7/site-packages/ipykernel_launcher.py:17: FutureWarning: Passing a negative integer is deprecated in version 1.0 and will not be supported in future version. Instead, use None to not limit the column width.\n"
     ]
    },
    {
     "data": {
      "text/html": [
       "<style>.container{width: 100%}</style>"
      ],
      "text/plain": [
       "<IPython.core.display.HTML object>"
      ]
     },
     "metadata": {},
     "output_type": "display_data"
    }
   ],
   "source": [
    "import sys\n",
    "import gc\n",
    "import re\n",
    "import json\n",
    "import _pickle as p\n",
    "import pandas as pd\n",
    "import numpy as np\n",
    "from importlib import reload\n",
    "from IPython.display import display, HTML\n",
    "\n",
    "sys.path.append('..')\n",
    "sys.path.append('../lib')\n",
    "import stats as S\n",
    "S = reload(S)\n",
    "\n",
    "pd.set_option('display.width', None)\n",
    "pd.set_option('display.max_colwidth', -1)\n",
    "display(HTML(\"<style>.container{width: 100%}</style>\"))"
   ]
  },
  {
   "cell_type": "code",
   "execution_count": 5,
   "metadata": {},
   "outputs": [],
   "source": [
    "lemm = S.lemm_h\n",
    "def freq_dict(text, suff='ph'):\n",
    "    txt_lemm = lemm(txt)\n",
    "    kwds = S.keywords(txt_lemm)\n",
    "    word_cnt = len(kwds)\n",
    "    word_cnt_log_inv = 1 / np.log2(word_cnt)\n",
    "    kwds_sorted = sorted(kwds.items(), key=lambda x: -x[1])\n",
    "    kwds_inverted = {i: word_cnt_log_inv/v for i, v in kwds.items()}\n",
    "    v = kwds_inverted.values()\n",
    "    with open(f'word_importance.{suff}.json', 'w') as f:\n",
    "        f.write(json.dumps(kwds_inverted))\n",
    "    print(f\"Stats: words count: {word_cnt}, log_inv = {word_cnt_log_inv}; min = {min(v)}, max = {max(v)}\")\n",
    "    return kwds_inverted"
   ]
  },
  {
   "cell_type": "code",
   "execution_count": null,
   "metadata": {},
   "outputs": [
    {
     "name": "stdout",
     "output_type": "stream",
     "text": [
      "Stats: words count: 21474, log_inv = 0.06949123844910178; min = 3.5416766958412813e-06, max = 0.06949123844910178\n"
     ]
    },
    {
     "name": "stderr",
     "output_type": "stream",
     "text": [
      "/home/aynur/Installed/miniconda3/lib/python3.7/site-packages/pandas/core/indexing.py:845: SettingWithCopyWarning: \n",
      "A value is trying to be set on a copy of a slice from a DataFrame.\n",
      "Try using .loc[row_indexer,col_indexer] = value instead\n",
      "\n",
      "See the caveats in the documentation: https://pandas.pydata.org/pandas-docs/stable/user_guide/indexing.html#returning-a-view-versus-a-copy\n",
      "  self.obj[key] = _infer_fill_value(value)\n",
      "/home/aynur/Installed/miniconda3/lib/python3.7/site-packages/pandas/core/indexing.py:966: SettingWithCopyWarning: \n",
      "A value is trying to be set on a copy of a slice from a DataFrame.\n",
      "Try using .loc[row_indexer,col_indexer] = value instead\n",
      "\n",
      "See the caveats in the documentation: https://pandas.pydata.org/pandas-docs/stable/user_guide/indexing.html#returning-a-view-versus-a-copy\n",
      "  self.obj[item] = s\n"
     ]
    }
   ],
   "source": [
    "articles = pd.read_csv('medical_site.csv')\n",
    "pharma = pd.read_csv('pharma.csv')\n",
    "pharma.drop(['web-scraper-order', 'web-scraper-start-url', 'Page', 'Page-href', 'PharmaLink', 'AnalogsLinks-href', 'Lots', 'Instruction'], axis=1, inplace=True)\n",
    "\n",
    "txt = \"\\n\".join(articles['ArticleText'].map(str)) + \"\\n\" + \"\\n\".join(pharma['PharmacologicAction'].map(str))\n",
    "\n",
    "kwds_inverted_ph = freq_dict(txt, suff='ph')\n",
    "\n",
    "Ph = pharma.loc[pharma.loc[:, 'PharmacologicAction'].notnull()]\n",
    "Ph.loc[:, 'Lemm'] = Ph.loc[:, 'PharmacologicAction'].apply(lemm)\n",
    "Ph.loc[:, 'Kw'] = Ph.loc[:, 'Lemm'].apply(lambda x: {i: 1 for i, v in S.keywords(x).items()})\n",
    "Ph.loc[:, 'KwMult'] = Ph.loc[:, 'Kw'].apply(lambda x: S.multiply2stats(kwds_inverted_ph, x, max_dist=0))\n",
    "\n",
    "Ph.drop(['Lemm', 'Kw'], axis=1, inplace=True)\n",
    "Ph.to_csv('pharma_kw.csv')\n",
    "\n",
    "gc.collect()"
   ]
  },
  {
   "cell_type": "code",
   "execution_count": null,
   "metadata": {},
   "outputs": [],
   "source": [
    "pattern = re.compile('[^\\w\\d\\s]+') \n",
    "Sdict = pd.read_csv('med_terms.csv')\n",
    "Sdict.drop(['web-scraper-order', 'web-scraper-start-url', 'Pages', 'Pages-href'], axis=1, inplace=True)\n",
    "\n",
    "txt = \"\\n\".join(Sdict['Definitions'].map(str))\n",
    "kwds_inverted_def = freq_dict(txt, suff='def')\n",
    "\n",
    "Sdict.loc[:, 'Term'] = Sdict.loc[:, 'Definitions'].apply(lambda x: pattern.split(x, 1)[0])\n",
    "Sdict.loc[:, 'Definitions'] = Sdict.loc[:, 'Definitions'].apply(lambda x: pattern.split(x, 1)[1])\n",
    "Sdict[['TermLemm', 'DefLemm']] = Sdict.loc[:, ['Term', 'Definitions']].applymap(S.lemm_m)\n",
    "Sdict.loc[:, 'DefKw'] = Sdict.loc[:, 'DefLemm'].apply(lambda x: S.keywords(x))\n",
    "# Sdict.loc[:, 'TermKw'] = Sdict.loc[:, 'TermLemm'].apply(lambda x: S.keywords(x))\n",
    "Sdict.loc[:, 'KwMult'] = Sdict.loc[:, 'DefKw'].apply(lambda x: S.multiply2stats(kwds_inverted_def, x, max_dist=0))\n",
    "# Sdict.loc[:, 'DefKwFilt'] = Sdict.loc[:, 'DefKwMult'].apply(lambda x: )\n",
    "Sdict.drop(['DefKw', 'DefLemm'], axis=1, inplace=True)\n",
    "Sdict.to_csv('med_terms_kw.csv')\n",
    "\n",
    "gc.collect()"
   ]
  },
  {
   "cell_type": "code",
   "execution_count": null,
   "metadata": {},
   "outputs": [],
   "source": [
    "Pdict = pd.read_csv('medical_profs.csv')\n",
    "Pdict.drop(['web-scraper-order', 'web-scraper-start-url', 'ProfLinks-href'], axis=1, inplace=True)\n",
    "\n",
    "txt = \"\\n\".join(Pdict['DescriptionText'].map(str))\n",
    "kwds_inverted_prof = freq_dict(txt, suff='prof')\n",
    "\n",
    "Pdict[['ProfLemm', 'DescLemm']] = Pdict.loc[:, ['ProfLinks', 'DescriptionText']].applymap(S.lemm_m)\n",
    "Pdict.loc[:, 'DescKw'] = Pdict.loc[:, 'DescLemm'].apply(lambda x: S.keywords(x))\n",
    "Pdict.loc[:, 'KwMult'] = Pdict.loc[:, 'DescKw'].apply(lambda x: S.multiply2stats(kwds_inverted_prof, x, max_dist=0))\n",
    "Pdict.drop(['DescKw', 'DescLemm', 'ProfLemm'], axis=1, inplace=True)\n",
    "Pdict.drop([1, 3, 4, 5, 11, 16, 26, 27, 33], axis=0, inplace=True)\n",
    "Pdict.to_csv('medical_profs_kw.csv')"
   ]
  },
  {
   "cell_type": "code",
   "execution_count": null,
   "metadata": {},
   "outputs": [],
   "source": [
    "for ds, THRESHOLD, fname_basis in [\n",
    "    (Ph, 1e-2, 'pharma_kw_thr'),\n",
    "    (Pdict, 1e-2, 'medical_profs_kw_thr'),\n",
    "    (Sdict, 1e-2, 'med_terms_kw_thr'),\n",
    "]:\n",
    "    ds.loc[:, 'KwFilt'] = ds.loc[:, 'KwMult'].map(lambda x: {i: v for i, v in x.items() if v > max(x.values())*THRESHOLD})\n",
    "    ds.loc[:, 'FSum'] = ds.loc[:, 'KwFilt'].map(lambda x: sum(x.values()))\n",
    "    ds.loc[:, 'KwNorm'] = ds.apply(lambda x: {i: v/x['FSum'] for i, v in x['KwFilt'].items()}, axis=1)\n",
    "    ds.drop(['KwFilt', 'FSum'], axis=1, inplace=True)\n",
    "    ds.to_csv(f'{fname_basis}{THRESHOLD:.6f}.csv')"
   ]
  },
  {
   "cell_type": "code",
   "execution_count": null,
   "metadata": {},
   "outputs": [],
   "source": [
    "display(Ph.head())\n",
    "display(Sdict.head())\n",
    "display(Pdict.head())"
   ]
  },
  {
   "cell_type": "code",
   "execution_count": null,
   "metadata": {},
   "outputs": [],
   "source": []
  }
 ],
 "metadata": {
  "kernelspec": {
   "display_name": "Python 3",
   "language": "python",
   "name": "python3"
  },
  "language_info": {
   "codemirror_mode": {
    "name": "ipython",
    "version": 3
   },
   "file_extension": ".py",
   "mimetype": "text/x-python",
   "name": "python",
   "nbconvert_exporter": "python",
   "pygments_lexer": "ipython3",
   "version": "3.7.5"
  }
 },
 "nbformat": 4,
 "nbformat_minor": 4
}
