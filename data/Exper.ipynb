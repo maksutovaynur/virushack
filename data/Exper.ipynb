{
 "cells": [
  {
   "cell_type": "code",
   "execution_count": 17,
   "metadata": {},
   "outputs": [],
   "source": [
    "import sys\n",
    "sys.path.append('../lib')\n",
    "import stats as S\n",
    "from importlib import reload\n",
    "S = reload(S)"
   ]
  },
  {
   "cell_type": "code",
   "execution_count": 18,
   "metadata": {},
   "outputs": [
    {
     "name": "stdout",
     "output_type": "stream",
     "text": [
      "lemm ['я', 'уходить', 'от', 'дядя', 'теперь', 'работать', 'на', 'себя', 'и', 'головной', 'боль', 'нет']\n",
      "lemm_m ['я', 'ушел', 'от', 'дяд', 'тепер', 'работа', 'на', 'себ', 'и', 'головн', 'бол', 'нет']\n",
      "lemm_h ['я', 'уход', 'от', 'дяд', 'тепер', 'работа', 'на', 'себ', 'и', 'головн', 'бол', 'нет']\n"
     ]
    }
   ],
   "source": [
    "TEXT = 'Я ушёл от дяди, теперь работаю на себя и головных болей нет'\n",
    "\n",
    "for lemm in (S.lemm, S.lemm_m, S.lemm_h):\n",
    "    print(lemm.__name__, lemm(TEXT))"
   ]
  },
  {
   "cell_type": "code",
   "execution_count": 11,
   "metadata": {},
   "outputs": [
    {
     "data": {
      "text/plain": [
       "['я', 'уход', 'от', 'дяд', 'тепер', 'работа', 'на', 'себ']"
      ]
     },
     "execution_count": 11,
     "metadata": {},
     "output_type": "execute_result"
    }
   ],
   "source": [
    "S.lemm_m('\\n'.join(S.lemm('Я ушёл от дяди, теперь работаю на себя')))"
   ]
  },
  {
   "cell_type": "code",
   "execution_count": null,
   "metadata": {},
   "outputs": [],
   "source": []
  }
 ],
 "metadata": {
  "kernelspec": {
   "display_name": "Python 3",
   "language": "python",
   "name": "python3"
  },
  "language_info": {
   "codemirror_mode": {
    "name": "ipython",
    "version": 3
   },
   "file_extension": ".py",
   "mimetype": "text/x-python",
   "name": "python",
   "nbconvert_exporter": "python",
   "pygments_lexer": "ipython3",
   "version": "3.7.5"
  }
 },
 "nbformat": 4,
 "nbformat_minor": 2
}
